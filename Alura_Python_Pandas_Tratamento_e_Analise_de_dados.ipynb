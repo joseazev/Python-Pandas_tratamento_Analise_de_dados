{
  "nbformat": 4,
  "nbformat_minor": 0,
  "metadata": {
    "colab": {
      "name": "Alura - Python Pandas : Tratamento e Analise de dados.ipynb",
      "provenance": [],
      "authorship_tag": "ABX9TyM4Wy0vhfsb7PMBNqq+EybF",
      "include_colab_link": true
    },
    "kernelspec": {
      "name": "python3",
      "display_name": "Python 3"
    },
    "language_info": {
      "name": "python"
    }
  },
  "cells": [
    {
      "cell_type": "markdown",
      "metadata": {
        "id": "view-in-github",
        "colab_type": "text"
      },
      "source": [
        "<a href=\"https://colab.research.google.com/github/joseazev/Python-Pandas_tratamento_Analise_de_dados/blob/main/Alura_Python_Pandas_Tratamento_e_Analise_de_dados.ipynb\" target=\"_parent\"><img src=\"https://colab.research.google.com/assets/colab-badge.svg\" alt=\"Open In Colab\"/></a>"
      ]
    },
    {
      "cell_type": "code",
      "execution_count": 4,
      "metadata": {
        "id": "QaLZtyF_JObY",
        "colab": {
          "base_uri": "https://localhost:8080/"
        },
        "outputId": "163b364e-74a2-46b6-cad2-7cfa4ef51e28"
      },
      "outputs": [
        {
          "output_type": "stream",
          "name": "stdout",
          "text": [
            "--2022-05-10 23:07:55--  https://raw.githubusercontent.com/joseazev/Python-Pandas_tratamento_Analise_de_dados/main/aluguel.csv\n",
            "Resolving raw.githubusercontent.com (raw.githubusercontent.com)... 185.199.111.133, 185.199.109.133, 185.199.110.133, ...\n",
            "Connecting to raw.githubusercontent.com (raw.githubusercontent.com)|185.199.111.133|:443... connected.\n",
            "HTTP request sent, awaiting response... 200 OK\n",
            "Length: 1376355 (1.3M) [text/plain]\n",
            "Saving to: ‘aluguel.csv.2’\n",
            "\n",
            "\raluguel.csv.2         0%[                    ]       0  --.-KB/s               \raluguel.csv.2       100%[===================>]   1.31M  --.-KB/s    in 0.03s   \n",
            "\n",
            "2022-05-10 23:07:55 (52.0 MB/s) - ‘aluguel.csv.2’ saved [1376355/1376355]\n",
            "\n",
            "--2022-05-10 23:07:55--  https://raw.githubusercontent.com/joseazev/Python-Pandas_tratamento_Analise_de_dados/main/aluguel.json\n",
            "Resolving raw.githubusercontent.com (raw.githubusercontent.com)... 185.199.108.133, 185.199.109.133, 185.199.110.133, ...\n",
            "Connecting to raw.githubusercontent.com (raw.githubusercontent.com)|185.199.108.133|:443... connected.\n",
            "HTTP request sent, awaiting response... 200 OK\n",
            "Length: 1412 (1.4K) [text/plain]\n",
            "Saving to: ‘aluguel.json’\n",
            "\n",
            "aluguel.json        100%[===================>]   1.38K  --.-KB/s    in 0s      \n",
            "\n",
            "2022-05-10 23:07:55 (25.7 MB/s) - ‘aluguel.json’ saved [1412/1412]\n",
            "\n",
            "--2022-05-10 23:07:55--  https://raw.githubusercontent.com/joseazev/Python-Pandas_tratamento_Analise_de_dados/main/aluguel.txt\n",
            "Resolving raw.githubusercontent.com (raw.githubusercontent.com)... 185.199.108.133, 185.199.109.133, 185.199.110.133, ...\n",
            "Connecting to raw.githubusercontent.com (raw.githubusercontent.com)|185.199.108.133|:443... connected.\n",
            "HTTP request sent, awaiting response... 200 OK\n",
            "Length: 526 [text/plain]\n",
            "Saving to: ‘aluguel.txt’\n",
            "\n",
            "aluguel.txt         100%[===================>]     526  --.-KB/s    in 0s      \n",
            "\n",
            "2022-05-10 23:07:55 (45.7 MB/s) - ‘aluguel.txt’ saved [526/526]\n",
            "\n",
            "--2022-05-10 23:07:55--  https://github.com/joseazev/Python-Pandas_tratamento_Analise_de_dados/raw/main/aluguel.xlsx\n",
            "Resolving github.com (github.com)... 140.82.121.3\n",
            "Connecting to github.com (github.com)|140.82.121.3|:443... connected.\n",
            "HTTP request sent, awaiting response... 302 Found\n",
            "Location: https://raw.githubusercontent.com/joseazev/Python-Pandas_tratamento_Analise_de_dados/main/aluguel.xlsx [following]\n",
            "--2022-05-10 23:07:55--  https://raw.githubusercontent.com/joseazev/Python-Pandas_tratamento_Analise_de_dados/main/aluguel.xlsx\n",
            "Resolving raw.githubusercontent.com (raw.githubusercontent.com)... 185.199.108.133, 185.199.109.133, 185.199.110.133, ...\n",
            "Connecting to raw.githubusercontent.com (raw.githubusercontent.com)|185.199.108.133|:443... connected.\n",
            "HTTP request sent, awaiting response... 200 OK\n",
            "Length: 10504 (10K) [application/octet-stream]\n",
            "Saving to: ‘aluguel.xlsx’\n",
            "\n",
            "aluguel.xlsx        100%[===================>]  10.26K  --.-KB/s    in 0s      \n",
            "\n",
            "2022-05-10 23:07:56 (116 MB/s) - ‘aluguel.xlsx’ saved [10504/10504]\n",
            "\n",
            "--2022-05-10 23:07:56--  https://raw.githubusercontent.com/joseazev/Python-Pandas_tratamento_Analise_de_dados/main/dados_html_1.html\n",
            "Resolving raw.githubusercontent.com (raw.githubusercontent.com)... 185.199.108.133, 185.199.109.133, 185.199.110.133, ...\n",
            "Connecting to raw.githubusercontent.com (raw.githubusercontent.com)|185.199.108.133|:443... connected.\n",
            "HTTP request sent, awaiting response... 200 OK\n",
            "Length: 31951 (31K) [text/plain]\n",
            "Saving to: ‘dados_html_1.html’\n",
            "\n",
            "dados_html_1.html   100%[===================>]  31.20K  --.-KB/s    in 0.001s  \n",
            "\n",
            "2022-05-10 23:07:56 (25.5 MB/s) - ‘dados_html_1.html’ saved [31951/31951]\n",
            "\n",
            "--2022-05-10 23:07:56--  https://raw.githubusercontent.com/joseazev/Python-Pandas_tratamento_Analise_de_dados/main/dados_html_2.html\n",
            "Resolving raw.githubusercontent.com (raw.githubusercontent.com)... 185.199.108.133, 185.199.109.133, 185.199.110.133, ...\n",
            "Connecting to raw.githubusercontent.com (raw.githubusercontent.com)|185.199.108.133|:443... connected.\n",
            "HTTP request sent, awaiting response... 200 OK\n",
            "Length: 110487 (108K) [text/plain]\n",
            "Saving to: ‘dados_html_2.html’\n",
            "\n",
            "dados_html_2.html   100%[===================>] 107.90K  --.-KB/s    in 0.01s   \n",
            "\n",
            "2022-05-10 23:07:56 (11.0 MB/s) - ‘dados_html_2.html’ saved [110487/110487]\n",
            "\n"
          ]
        }
      ],
      "source": [
        "!wget https://raw.githubusercontent.com/joseazev/Python-Pandas_tratamento_Analise_de_dados/main/aluguel.csv\n",
        "\n",
        "!wget https://raw.githubusercontent.com/joseazev/Python-Pandas_tratamento_Analise_de_dados/main/aluguel.json\n",
        "\n",
        "!wget https://raw.githubusercontent.com/joseazev/Python-Pandas_tratamento_Analise_de_dados/main/aluguel.txt\n",
        "\n",
        "!wget https://github.com/joseazev/Python-Pandas_tratamento_Analise_de_dados/raw/main/aluguel.xlsx\n",
        "\n",
        "!wget https://raw.githubusercontent.com/joseazev/Python-Pandas_tratamento_Analise_de_dados/main/dados_html_1.html\n",
        "\n",
        "!wget https://raw.githubusercontent.com/joseazev/Python-Pandas_tratamento_Analise_de_dados/main/dados_html_2.html"
      ]
    },
    {
      "cell_type": "code",
      "source": [
        ""
      ],
      "metadata": {
        "id": "b_6f9edzN4ii"
      },
      "execution_count": null,
      "outputs": []
    }
  ]
}